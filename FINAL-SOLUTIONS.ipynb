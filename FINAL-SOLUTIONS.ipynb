{
  "nbformat": 4,
  "nbformat_minor": 0,
  "metadata": {
    "colab": {
      "provenance": [],
      "include_colab_link": true
    },
    "kernelspec": {
      "name": "python3",
      "display_name": "Python 3"
    },
    "language_info": {
      "name": "python"
    }
  },
  "cells": [
    {
      "cell_type": "markdown",
      "metadata": {
        "id": "view-in-github",
        "colab_type": "text"
      },
      "source": [
        "<a href=\"https://colab.research.google.com/github/lucianosilvasp/papers/blob/main/FINAL-SOLUTIONS.ipynb\" target=\"_parent\"><img src=\"https://colab.research.google.com/assets/colab-badge.svg\" alt=\"Open In Colab\"/></a>"
      ]
    },
    {
      "cell_type": "markdown",
      "source": [
        "**LOGICA E MATEMÁTICA DISCRETA - PROVA FINAL**"
      ],
      "metadata": {
        "id": "38qy_v-mj8pm"
      }
    },
    {
      "cell_type": "markdown",
      "source": [
        "**NAME:**"
      ],
      "metadata": {
        "id": "dkGm2w0EkGI8"
      }
    },
    {
      "cell_type": "markdown",
      "source": [
        "**QUESTÃO 1 (2.0 PONTOS):** Utilizando o mecanismo de lambdas, implemente o tipo vetor unitário n-dimensional de coordenada i, onde n indica a quantidade de coordenadas do vetor e i a posição onde deve estar o único 1 do vetor."
      ],
      "metadata": {
        "id": "wnKJuE-3kKuV"
      }
    },
    {
      "cell_type": "code",
      "source": [
        "vetor = lambda n,i: [0 if j!=i else 1 for j in range(n)]\n",
        "n=6\n",
        "i=2\n",
        "print (vetor(n,i))\n",
        "#resultado deveria ser [0,0,1,0,0,0]"
      ],
      "metadata": {
        "id": "m_D3LmbokU9x",
        "colab": {
          "base_uri": "https://localhost:8080/"
        },
        "outputId": "11141287-79ce-4e51-f3c0-8f4ad66b66ed"
      },
      "execution_count": 1,
      "outputs": [
        {
          "output_type": "stream",
          "name": "stdout",
          "text": [
            "[0, 0, 1, 0, 0, 0]\n"
          ]
        }
      ]
    },
    {
      "cell_type": "markdown",
      "source": [
        "**QUESTÃO 2 (2.0 PONTOS):** Uma pilha (STACK) é uma estrutura de dados que pode se implementada como uma lista P. Nesta lista, existem duas operações:\n",
        "\n",
        "*   **push(P,X)**: insere X no final da lista da pilha P e devolve a pilha P com o elemento X inserido nela\n",
        "*   **pop(P)**: remove, caso houver, o último elemento da lista da Pilha P e devolve como a pilha sem o último elemento inserido\n",
        "\n"
      ],
      "metadata": {
        "id": "qREpJTWJkiNp"
      }
    },
    {
      "cell_type": "markdown",
      "source": [
        "**QUESTÃO 2A (1.0 ponto)** Produza uma especificação algébrica para o tipo de dado PILHA de números naturais(NAT):\n",
        "\n",
        "SPEC **PILHA**\n",
        "\n",
        "SORTS PILHA, NAT\n",
        "\n",
        "OPS:\n",
        "\n",
        "\n",
        "     new:            --> PILHA\n",
        "     push: PILHA NAT --> PILHA\n",
        "     pop:  PILHA     --> PILHA\n",
        "\n",
        "AXIOMS:\n",
        "\n",
        "     pop(push(P,X)) = P /* se desempilhamos logo após empilharmos, obtemos a pilha antes do empilhamento */\n",
        "\n",
        "END SPEC"
      ],
      "metadata": {
        "id": "RVFX4pHqk33d"
      }
    },
    {
      "cell_type": "markdown",
      "source": [
        "**QUESTÃO 2B (1.0 ponto)** Implemente a estrutura de dados PILHA de números naturais com base na especificação anterior."
      ],
      "metadata": {
        "id": "TFZtJ8AYzjdq"
      }
    },
    {
      "cell_type": "code",
      "source": [
        "from dataclasses import dataclass\n",
        "\n",
        "@dataclass\n",
        "class PILHA:\n",
        "\n",
        "    def __init__(self):\n",
        "    #operação new\n",
        "      self.p=[]    #pilha é armazenada como uma lista\n",
        "\n",
        "    def push(self,X):\n",
        "    #operation push\n",
        "      self.p.append(X) #insere elemento X e devolve pilha atualizada\n",
        "      return self\n",
        "\n",
        "    def pop(self):\n",
        "    #operation pop\n",
        "      self.p.pop() #remove o último elemento da pilha e devolve a pilha atualizada\n",
        "      return self\n",
        "\n",
        "\n",
        "P=PILHA() #pilha original, antes do empilhamento\n",
        "Pfinal=P.push(1).pop() #pilha final, depois do empilhamento e desempilhamento\n",
        "\n",
        "assert Pfinal==P #testa se as duas pilhas obedecem os axiomas\n"
      ],
      "metadata": {
        "id": "eU7-6Dg8zwnA"
      },
      "execution_count": 18,
      "outputs": []
    },
    {
      "cell_type": "markdown",
      "source": [
        "**QUESTÃO 3 (2.0 PONTOS):** Considere a implementação do tipo recursivo tree (ÁRVORE) de números inteiros feita em ML:"
      ],
      "metadata": {
        "id": "YIM9zD1mk-Ur"
      }
    },
    {
      "cell_type": "code",
      "source": [
        "!apt-get install smlnj"
      ],
      "metadata": {
        "id": "mlTkKIJqlZbx"
      },
      "execution_count": null,
      "outputs": []
    },
    {
      "cell_type": "code",
      "source": [
        "%%writefile tree.sml\n",
        "\n",
        "datatype inttree = Empty\n",
        "                   | Node of { value: int, left: inttree, right: inttree }\n",
        "\n",
        "tree= Node {value = 2,\n",
        "            left = Node {value=1, left = Empty, right = Empty},\n",
        "            right= Node {value=3, left = Empty, right = Empty}}\n",
        "\n"
      ],
      "metadata": {
        "id": "ySOBbW_yl38C"
      },
      "execution_count": null,
      "outputs": []
    },
    {
      "cell_type": "markdown",
      "source": [
        "Uma **floresta (forest)** é uma coleção, possivelmente vazia, de árvores. Especifique um tipo recursivo em ML para florestas de árvores de inteiros."
      ],
      "metadata": {
        "id": "sk_9N2odmBEL"
      }
    },
    {
      "cell_type": "code",
      "source": [
        "%%writefile intforest.sml\n",
        "\n",
        "datatype inttree = Empty\n",
        "                   | Node of { value: int, left: inttree, right: inttree }\n",
        "\n",
        "datatype intforest = Nil  (* floresta é um conjunto linear (lista) de árvores *)\n",
        "                   | Node of {inttree*intforest}\n",
        "\n",
        "tree= Node {value = 2,\n",
        "            left = Node {value=1, left = Empty, right = Empty},\n",
        "            right= Node {value=3, left = Empty, right = Empty}}\n",
        "\n",
        "val forest = Nil   (* floresta vazia)\n",
        "forest = Cons of (tree,forest)  (* floresta com uma árvore *)\n",
        "forest = Cons of (tree,forest)  (* floresta com duas árvores *)"
      ],
      "metadata": {
        "id": "f4KLp5X6mK59"
      },
      "execution_count": null,
      "outputs": []
    },
    {
      "cell_type": "markdown",
      "source": [
        "**QUESTÃO 4 (2.0 PONTOS):** Utilizando o solver Z3, mostre que todo número ímpar maior que zero é sempre a soma de um número par mais 1.\n",
        "\n",
        "Exemplos:\n",
        "\n",
        "* 1 = 0+1\n",
        "* 3 = 2+1\n",
        "* 5 = 4+1\n",
        "* 7 = 6+1\n",
        "\n"
      ],
      "metadata": {
        "id": "VMKifYchmTmj"
      }
    },
    {
      "cell_type": "code",
      "source": [
        "!pip install z3-solver"
      ],
      "metadata": {
        "id": "kN0fiBINmx8U",
        "colab": {
          "base_uri": "https://localhost:8080/"
        },
        "outputId": "061f984c-066e-4f0f-c1a2-46d5dd756c57"
      },
      "execution_count": 21,
      "outputs": [
        {
          "output_type": "stream",
          "name": "stdout",
          "text": [
            "Collecting z3-solver\n",
            "  Downloading z3_solver-4.13.0.0-py2.py3-none-manylinux2014_x86_64.whl (57.3 MB)\n",
            "\u001b[2K     \u001b[90m━━━━━━━━━━━━━━━━━━━━━━━━━━━━━━━━━━━━━━━━\u001b[0m \u001b[32m57.3/57.3 MB\u001b[0m \u001b[31m8.4 MB/s\u001b[0m eta \u001b[36m0:00:00\u001b[0m\n",
            "\u001b[?25hInstalling collected packages: z3-solver\n",
            "Successfully installed z3-solver-4.13.0.0\n"
          ]
        }
      ]
    },
    {
      "cell_type": "code",
      "source": [
        "#Primeiro, vamos observar que:\n",
        "# 1 = 2*0 + 1\n",
        "# 3 = 2*1 + 1\n",
        "# 5 = 2*2 + 1\n",
        "# 7 = 2*3 + 1\n",
        "#\n",
        "# ou seja, o n-ésimo número ímpar pode ser definido por impar(n)=2*n+1 e, obviamente, 2*n é um número par.\n",
        "# Vamos usar o Princípio da Indução Finita (PIF) em i para realizar esta prova.\n",
        "# O primeiro passo é definir o caso-base e o passo-indutivo:\n",
        "\n",
        "from z3 import *\n",
        "\n",
        "n = Int(\"n\")\n",
        "\n",
        "impar = Function(\"impar\", IntSort(), IntSort())\n",
        "s = Solver()\n",
        "s.add(impar(0) == 2*0 +1) # caso-base\n",
        "s.add(ForAll([n],impar(n) == 2*n+1)) # passo-indutivo\n",
        "\n",
        "#Vamos tentar encontrar um contra-exemplo para o (n+1)-ésimo número ímpar\n",
        "s.add(Not(ForAll([n], Implies(n >= 0, impar(n+1)==2*(n+1)+1))))\n",
        "s.check()\n",
        "\n",
        "#como o resultado deu unsat, não existe contra-exemplo e a fórmula é verdadeira"
      ],
      "metadata": {
        "id": "ux6MAbgfm3i2",
        "colab": {
          "base_uri": "https://localhost:8080/",
          "height": 34
        },
        "outputId": "49c7d6b1-9879-4dbb-8bc3-edf5c891e12d"
      },
      "execution_count": 22,
      "outputs": [
        {
          "output_type": "execute_result",
          "data": {
            "text/plain": [
              "unsat"
            ],
            "text/html": [
              "<b>unsat</b>"
            ]
          },
          "metadata": {},
          "execution_count": 22
        }
      ]
    },
    {
      "cell_type": "markdown",
      "source": [
        "**QUESTÃO 5 (2.0 PONTOS):** Considere o seguinte algoritmo recursivo em Python, que realiza busca linear numa linta de tamanho n:"
      ],
      "metadata": {
        "id": "PGSQHM3coR1M"
      }
    },
    {
      "cell_type": "code",
      "source": [
        "# Recursively Linearly Search an Element in an Array\n",
        "def recLinearSearch( arr, l, r, x):\n",
        "   if r < l:\n",
        "      return -1\n",
        "   if arr[l] == x:\n",
        "      return l\n",
        "   if arr[r] == x:\n",
        "      return r\n",
        "   return recLinearSearch(arr, l+1, r-1, x)\n",
        "\n",
        "lst = [1, 6, 4, 9, 2, 8]\n",
        "element = 2\n",
        "res = recLinearSearch(lst, 0, len(lst)-1, element)\n",
        "\n",
        "if res != -1:\n",
        "   print('{} was found at index {}.'.format(element, res))\n",
        "else:\n",
        "   print('{} was not found.'.format(element))"
      ],
      "metadata": {
        "id": "0xtzEeTopEzH",
        "colab": {
          "base_uri": "https://localhost:8080/"
        },
        "outputId": "8a9d7e0f-7303-4681-c1d9-e13c989ac9c3"
      },
      "execution_count": 40,
      "outputs": [
        {
          "output_type": "stream",
          "name": "stdout",
          "text": [
            "2 was found at index 4.\n"
          ]
        }
      ]
    },
    {
      "cell_type": "markdown",
      "source": [
        "Queremos **contar quantas comparações**, no máximo, a busca binária faz para procurar por um elemento x num vetor de tamanho n. Escreva a relação de recorrência para contar estas comparações e a resolva com o módulo sympy da linguagem Python."
      ],
      "metadata": {
        "id": "OmIFrwQapWsF"
      }
    },
    {
      "cell_type": "markdown",
      "source": [
        "A relação de recorrência é bem simples:\n",
        "\n",
        "*   se o tamanho do vetor é zero, ou seja, temos um vetor vazio, fazemos somente uma comparação (r\\< l). Assim, T(0)=1.\n",
        "\n",
        "*   se o vetor tem tamanho n maior ou igual a 1, fazemos (no pior caso) no máximo 3 comparações e o tamanho diminui de 2 (l+1 e r-1). Assim, temos que T(n)=3+T(n-2), se n >=1.\n",
        "\n",
        "Utilizando o sympy para resolver a rescorrência, obtemos:"
      ],
      "metadata": {
        "id": "tRxFUqwOJ0c2"
      }
    },
    {
      "cell_type": "code",
      "source": [
        "from sympy import *\n",
        "T = Function('T')\n",
        "n = symbols('n',integer=True)\n",
        "f = T(n)-3-T(n-2)\n",
        "rsolve(f,T(n),{T(0):1})"
      ],
      "metadata": {
        "id": "zhcLhfW89-Rm",
        "colab": {
          "base_uri": "https://localhost:8080/",
          "height": 51
        },
        "outputId": "5d008e7f-71c4-4a9b-a2aa-202bc3b32f7f"
      },
      "execution_count": 41,
      "outputs": [
        {
          "output_type": "execute_result",
          "data": {
            "text/plain": [
              "(-1)**n*C1 - C1 + 3*n/2 + 1"
            ],
            "text/latex": "$\\displaystyle \\left(-1\\right)^{n} C_{1} - C_{1} + \\frac{3 n}{2} + 1$"
          },
          "metadata": {},
          "execution_count": 41
        }
      ]
    }
  ]
}